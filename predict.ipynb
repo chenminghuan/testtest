{
 "cells": [
  {
   "cell_type": "code",
   "execution_count": 84,
   "metadata": {
    "scrolled": true
   },
   "outputs": [
    {
     "name": "stdout",
     "output_type": "stream",
     "text": [
      "开始训练\n",
      "模型训练耗时: 0.0014340000006995979\n"
     ]
    },
    {
     "data": {
      "image/png": "[encoded data removed]",
      "text/plain": [
       "<Figure size 360x360 with 1 Axes>"
      ]
     },
     "metadata": {
      "needs_background": "light"
     },
     "output_type": "display_data"
    },
    {
     "name": "stdout",
     "output_type": "stream",
     "text": [
      "r2_score:99.8940076%\n",
      "rmse score:0.3796126%\n",
      "rmspe score:1.0012093%\n",
      "r_score_mod score:99.8852959%\n"
     ]
    },
    {
     "data": {
      "image/png": "[encoded data removed]",
      "text/plain": [
       "<Figure size 432x288 with 1 Axes>"
      ]
     },
     "metadata": {
      "needs_background": "light"
     },
     "output_type": "display_data"
    }
   ],
   "source": [
    "import pandas as pd\n",
    "import matplotlib.pyplot as plt\n",
    "import xgboost as xgb\n",
    "from xgboost import plot_tree\n",
    "import numpy as np\n",
    "from xgboost import plot_importance\n",
    "import time\n",
    "#from sklearn.preprocessing import Imputer\n",
    "from sklearn.impute import SimpleImputer as Imputer\n",
    "from sklearn.metrics import accuracy_score\n",
    "from sklearn.metrics import explained_variance_score\n",
    "from sklearn.metrics import mean_squared_error #均方误差\n",
    "from sklearn.metrics import mean_absolute_error #平方绝对误差\n",
    "from sklearn.metrics import r2_score#R square\n",
    "\n",
    "\n",
    "def loadTestData(filePath):\n",
    "    data = pd.read_csv(filepath_or_buffer=filePath,header=None)\n",
    "    yList=[]\n",
    "    XList=[]\n",
    "    data_col=data.shape[1]\n",
    "   # print(data_col)\n",
    "    for col in range(0,data_col):\n",
    "        tmp_list=[]\n",
    "        tmp_list.append(data.iloc[5][col])\n",
    "        tmp_list.append(data.iloc[6][col])\n",
    "        tmp_list.append(data.iloc[7][col])\n",
    "        tmp_list.append(data.iloc[17][col])\n",
    "        tmp_list.append(data.iloc[18][col])\n",
    "        tmp_list.append(data.iloc[19][col])\n",
    "        tmpp_list=[]\n",
    "        tmpp_list.append(data.iloc[7][col])\n",
    "        XList.append(tmp_list)\n",
    "        yList.append(tmpp_list)\n",
    "    return XList,yList\n",
    "\n",
    "def RMSPE(y_true, y_predict):\n",
    "    rmspe = np.sqrt(np.mean(((y_true - y_predict)/y_true) ** 2))\n",
    "    return rmspe\n",
    "\n",
    "def rmse(predictions, targets):\n",
    "    return np.sqrt(((predictions - targets) **2).mean())\n",
    "\n",
    "def draw(ans_predict,X_test):\n",
    "    plt.rcParams['font.sans-serif']='SimHei' #设置中文显示\n",
    "    plt.rcParams['axes.unicode_minus']=False\n",
    "    x=np.arange(0,ans_predict.shape[0]) #谁当x轴的点数\n",
    "    plt.figure(figsize=(5,5))\n",
    "    plt.scatter(x,ans_predict,marker='o',c='red')#ans_predict是经过训练的值，\n",
    "    plt.scatter(x,X_test,marker='D',c='blue')#x为x轴的点数，x_test为对应x坐标的纵坐标值，X_test为实际值\n",
    "    plt.xlabel('样本')#x轴变量的名称\n",
    "    plt.ylabel('臂角值')#y轴变量的名称\n",
    "    plt.title('摸右耳 拟合效果散点图')#title名称\n",
    "    plt.legend(['臂角预测值','实际臂角值'])#图例\n",
    "    plt.savefig('D:\\毕业相关\\chenminghuan\\my_angle\\散点图.png')#保存为png格式\n",
    "    plt.show()\n",
    "\n",
    "def trainandTest(X_test,x_test):\n",
    "    # XGBoost训练过程\n",
    "    print(\"开始训练\")\n",
    "    \n",
    "    #plot_tree(model)\n",
    "    # 对测试集进行预测\n",
    "    model = xgb.XGBRegressor(max_depth=6, learning_rate=0.5, n_estimators=60, silent=False, objective=\"reg:squarederror\", gamma=0.01)\n",
    "    model.load_model('D:\\毕业相关\\chenminghuan\\my_angle\\model_regression3.model')\n",
    "    timeIn= time.perf_counter() \n",
    "    ans_predict = model.predict(X_test)\n",
    "    print(\"模型训练耗时: {}\".format(time.perf_counter() - timeIn))#单位为秒\n",
    "    ans_predict_len = len(ans_predict)\n",
    "   # print(ans_predict)\n",
    "    id_list = np.arange(1, 17441)\n",
    "    data_arr = []\n",
    "    for row in range(0, ans_predict_len):\n",
    "        data_arr.append([int(id_list[row]),ans_predict[row]])\n",
    "    np_data = np.array(data_arr)\n",
    "\n",
    "    # 写入文件\n",
    "    pd_data = pd.DataFrame(np_data, columns=['id', 'y'])\n",
    "    draw(ans_predict,x_test)\n",
    "    score=r2_score(x_test,ans_predict)\n",
    "    ans_target=[]\n",
    "    for a in x_test:\n",
    "        for b in a:\n",
    "            ans_target.append(b)\n",
    "    r_score=r2_score(ans_target,ans_predict)\n",
    "    print(\"r2_score:%.7f%%\"%(r2_score(ans_target,ans_predict)*100.0))\n",
    "    print(\"rmse score:%.7f%%\"%(rmse(ans_target,ans_predict)*100.0))\n",
    "    print(\"rmspe score:%.7f%%\"%(RMSPE(ans_target,ans_predict)*100.0))\n",
    "    \n",
    "    r_score_mod=1-(1-r_score)*(ans_predict_len-1)/(ans_predict_len-1-6)\n",
    "    print(\"r_score_mod score:%.7f%%\"%(r_score_mod*100.0))\n",
    "    # 显示重要特征\n",
    "    plot_importance(model)\n",
    "    plt.show()\n",
    "    \n",
    "#from libs.xgboost_plot import plot_training_merror\n",
    "\n",
    "    \n",
    "if __name__ == '__main__':\n",
    "    testFilePath = 'D:\\毕业相关\\chenminghuan\\my_angle\\\\rear_3_forward_5.csv'\n",
    "    X_test1,x_test1 = loadTestData(testFilePath)\n",
    "    X_test=np.array(X_test1)\n",
    "    x_test=np.array(x_test1)\n",
    "    trainandTest(X_test,x_test)"
   ]
  },
  {
   "cell_type": "code",
   "execution_count": null,
   "metadata": {},
   "outputs": [],
   "source": []
  },
  {
   "cell_type": "code",
   "execution_count": null,
   "metadata": {},
   "outputs": [],
   "source": []
  }
 ],
 "metadata": {
  "kernelspec": {
   "display_name": "Python 3",
   "language": "python",
   "name": "python3"
  },
  "language_info": {
   "codemirror_mode": {
    "name": "ipython",
    "version": 3
   },
   "file_extension": ".py",
   "mimetype": "text/x-python",
   "name": "python",
   "nbconvert_exporter": "python",
   "pygments_lexer": "ipython3",
   "version": "3.9.1"
  }
 },
 "nbformat": 4,
 "nbformat_minor": 4
}
